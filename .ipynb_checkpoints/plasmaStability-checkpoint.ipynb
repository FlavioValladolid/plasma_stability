{
 "cells": [
  {
   "cell_type": "code",
   "execution_count": null,
   "id": "emerging-advocacy",
   "metadata": {},
   "outputs": [],
   "source": [
    "import pandas as pd\n",
    "import numpy as np\n",
    "import os\n",
    "\n",
    "file_path = r'/home/flavioisay/MEGAsync/Python/Si3N4'\n",
    "files_names = os.listdir(rootdir)\n",
    "spectrum_range = {1: 'UV',\n",
    "                 2: 'VIS'}\n",
    "species_to_study = [2,3]\n",
    "size_of_window = [15,30,50]"
   ]
  },
  {
   "cell_type": "code",
   "execution_count": 25,
   "id": "celtic-citizenship",
   "metadata": {},
   "outputs": [],
   "source": [
    "class Spectrum_range():\n",
    "    def __init__(self, s_range):\n",
    "        self.s_range = s_range\n",
    "    \n",
    "    def folder(self):\n",
    "        if self.s_range == 'UV':\n",
    "            return 'UV_proc'\n",
    "        elif self.s_range == 'VIS':\n",
    "            return 'VIS_proc'\n",
    "        else:\n",
    "            return 'Wrong range, try to put \"UV\" or \"VIS\"'\n",
    "        \n",
    "    def file_name(self):\n",
    "        if self.s_range == 'UV':\n",
    "            return '1704146U2_cat'\n",
    "        elif self.s_range == 'VIS':\n",
    "            return '1704147U2_cat'\n",
    "        else:\n",
    "            return 'Wrong range, try to put \"UV\" or \"VIS\"'\n",
    "    \n",
    "    def species_tag(self):\n",
    "        if self.s_range == 'UV':\n",
    "            return ['Si I (243.5)','Si I (250.7)','Si I (288.1)',\n",
    "                    'Ar II (454.3)','Ar II (460.8)','Ar I (450.9)',\n",
    "                    'N2 (315.9)','N2 (337.1)','N2 (357.6)','N2 (380.3)',\n",
    "                    'N2plus (358.1)','N2plus (391.3)'] \n",
    "        elif self.s_range == 'VIS':\n",
    "            return ['Ar II (461.2)','Ar II (466.1)','Ar II (476.7)',\n",
    "                    'Ar I (706.6)','Ar I (794.7)','Ar I (826.1)',\n",
    "                    'N2plus (470.9)',\n",
    "                    'OI (777.2)','OI (844.2)']\n",
    "        else:\n",
    "            return 'Wrong range, try to put \"UV\" or \"VIS\"'\n"
   ]
  },
  {
   "cell_type": "code",
   "execution_count": 31,
   "id": "occupied-redhead",
   "metadata": {},
   "outputs": [
    {
     "name": "stdout",
     "output_type": "stream",
     "text": [
      "['Ar II (461.2)', 'Ar II (466.1)', 'Ar II (476.7)', 'Ar I (706.6)', 'Ar I (794.7)', 'Ar I (826.1)', 'N2plus (470.9)', 'OI (777.2)', 'OI (844.2)']\n"
     ]
    }
   ],
   "source": [
    "x = Spectrum_range('VIS')\n",
    "print(x.species_tag())"
   ]
  },
  {
   "cell_type": "markdown",
   "id": "explicit-tradition",
   "metadata": {},
   "source": [
    "# Functions"
   ]
  },
  {
   "cell_type": "code",
   "execution_count": null,
   "id": "equal-backing",
   "metadata": {},
   "outputs": [],
   "source": [
    "def stability(a,size_of_window):\n",
    "    \"\"\"\n",
    "    \n",
    "    \"\"\""
   ]
  }
 ],
 "metadata": {
  "kernelspec": {
   "display_name": "Python 3",
   "language": "python",
   "name": "python3"
  },
  "language_info": {
   "codemirror_mode": {
    "name": "ipython",
    "version": 3
   },
   "file_extension": ".py",
   "mimetype": "text/x-python",
   "name": "python",
   "nbconvert_exporter": "python",
   "pygments_lexer": "ipython3",
   "version": "3.8.6"
  }
 },
 "nbformat": 4,
 "nbformat_minor": 5
}
